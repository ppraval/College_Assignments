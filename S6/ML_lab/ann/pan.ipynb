{
 "cells": [
  {
   "cell_type": "code",
   "execution_count": null,
   "metadata": {},
   "outputs": [],
   "source": [
    "import numpy as np\n",
    "from sklearn.datasets import fetch_openml\n",
    "from sklearn.model_selection import train_test_split\n",
    "from sklearn.preprocessing import OneHotEncoder"
   ]
  },
  {
   "cell_type": "code",
   "execution_count": null,
   "metadata": {},
   "outputs": [],
   "source": [
    "mnist = fetch_openml('mnist_784', version=1)\n",
    "X, y = mnist[\"data\"], mnist[\"target\"]"
   ]
  },
  {
   "cell_type": "code",
   "execution_count": null,
   "metadata": {},
   "outputs": [],
   "source": [
    "encoder = OneHotEncoder()\n",
    "y = encoder.fit_transform(y.to_numpy().reshape(-1, 1)).toarray()"
   ]
  },
  {
   "cell_type": "code",
   "execution_count": null,
   "metadata": {},
   "outputs": [],
   "source": [
    "X_train, X_test, y_train, y_test = train_test_split(X, y, test_size=0.2, random_state=42)"
   ]
  },
  {
   "cell_type": "code",
   "execution_count": null,
   "metadata": {},
   "outputs": [],
   "source": [
    "class ANN:\n",
    "    def __init__(self, layers):\n",
    "        self.layers = layers\n",
    "        self.weights = []\n",
    "        self.biases = []\n",
    "\n",
    "        for i in range(len(layers) - 1):\n",
    "            self.weights.append(np.random.randn(layers[i], layers[i + 1]) * 0.01)\n",
    "            self.biases.append(np.zeros((1, layers[i + 1])))\n",
    "\n",
    "    def sigmoid(self, x):\n",
    "        return 1 / (1 + np.exp(-x))\n",
    "\n",
    "    def sigmoid_derivative(self, x):\n",
    "        return x * (1 - x)\n",
    "\n",
    "    def softmax(self, x):\n",
    "        exp_x = np.exp(x - np.max(x, axis=1, keepdims=True))\n",
    "        return exp_x / np.sum(exp_x, axis=1, keepdims=True)\n",
    "\n",
    "    def forward(self, X):\n",
    "        self.activations = [X]\n",
    "        self.z_values = []\n",
    "\n",
    "        for i in range(len(self.weights)):\n",
    "            z = np.dot(self.activations[-1], self.weights[i]) + self.biases[i]\n",
    "            self.z_values.append(z)\n",
    "\n",
    "            if i == len(self.weights) - 1:\n",
    "                a = self.softmax(z)\n",
    "            else: \n",
    "                a = self.sigmoid(z)\n",
    "\n",
    "            self.activations.append(a)\n",
    "\n",
    "        return self.activations[-1]\n",
    "\n",
    "    def backward(self, X, y, output):\n",
    "        m = X.shape[0]\n",
    "        deltas = [output - y]\n",
    "\n",
    "        for i in range(len(self.weights) - 1, 0, -1):\n",
    "            delta = np.dot(deltas[0], self.weights[i].T) * self.sigmoid_derivative(self.activations[i])\n",
    "            deltas.insert(0, delta)\n",
    "\n",
    "        self.dw = []\n",
    "        self.db = []\n",
    "\n",
    "        for i in range(len(self.weights)):\n",
    "            self.dw.append(np.dot(self.activations[i].T, deltas[i]) / m)\n",
    "            self.db.append(np.sum(deltas[i], axis=0, keepdims=True) / m)\n",
    "\n",
    "    def update_parameters(self, learning_rate):\n",
    "        for i in range(len(self.weights)):\n",
    "            self.weights[i] -= learning_rate * self.dw[i]\n",
    "            self.biases[i] -= learning_rate * self.db[i]\n",
    "\n",
    "    def train(self, X, y, epochs, learning_rate, batch_size):\n",
    "        m = X.shape[0]\n",
    "        for epoch in range(epochs):\n",
    "            for i in range(0, m, batch_size):\n",
    "                X_batch = X[i:i + batch_size]\n",
    "                y_batch = y[i:i + batch_size]\n",
    "\n",
    "                output = self.forward(X_batch)\n",
    "                self.backward(X_batch, y_batch, output)\n",
    "                self.update_parameters(learning_rate)\n",
    "\n",
    "            if epoch % 10 == 0:\n",
    "                output = self.forward(X)\n",
    "                loss = -np.sum(y * np.log(output + 1e-10)) / m\n",
    "                print(f\"Epoch {epoch}, Loss: {loss}\")\n",
    "\n",
    "    def predict(self, X):\n",
    "        output = self.forward(X)\n",
    "        return np.argmax(output, axis=1)\n",
    "\n",
    "    def accuracy(self, X, y):\n",
    "        predictions = self.predict(X)\n",
    "        true_labels = np.argmax(y, axis=1)\n",
    "        return np.mean(predictions == true_labels)"
   ]
  },
  {
   "cell_type": "code",
   "execution_count": null,
   "metadata": {},
   "outputs": [],
   "source": [
    "layers = [784, 160, 10]\n",
    "ann = ANN(layers)"
   ]
  },
  {
   "cell_type": "code",
   "execution_count": null,
   "metadata": {},
   "outputs": [],
   "source": [
    "epochs = 100\n",
    "learning_rate = 0.1\n",
    "batch_size = 32"
   ]
  },
  {
   "cell_type": "code",
   "execution_count": null,
   "metadata": {},
   "outputs": [],
   "source": [
    "ann.train(X_train, y_train, epochs, learning_rate, batch_size)"
   ]
  },
  {
   "cell_type": "code",
   "execution_count": null,
   "metadata": {},
   "outputs": [],
   "source": [
    "train_accuracy = ann.accuracy(X_train, y_train)\n",
    "test_accuracy = ann.accuracy(X_test, y_test)\n",
    "print(f\"Training Accuracy: {train_accuracy:.4f}\")\n",
    "print(f\"Test Accuracy: {test_accuracy:.4f}\")"
   ]
  },
  {
   "cell_type": "code",
   "execution_count": null,
   "metadata": {},
   "outputs": [],
   "source": [
    "y_pred = ann.predict(X_test)\n",
    "print(\"Sample Predictions:\", y_pred[:10])"
   ]
  }
 ],
 "metadata": {
  "language_info": {
   "name": "python"
  }
 },
 "nbformat": 4,
 "nbformat_minor": 2
}
