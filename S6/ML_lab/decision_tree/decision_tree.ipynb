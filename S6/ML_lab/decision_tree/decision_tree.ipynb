{
 "cells": [
  {
   "cell_type": "code",
   "execution_count": null,
   "metadata": {},
   "outputs": [],
   "source": [
    "import numpy as np\n",
    "import pandas as pd\n",
    "from sklearn.metrics import accuracy_score\n",
    "import seaborn as sns\n",
    "import matplotlib.pyplot as plt\n",
    "from sklearn.model_selection import train_test_split\n",
    "from sklearn.metrics import accuracy_score, precision_score, recall_score, confusion_matrix, roc_curve, auc, ConfusionMatrixDisplay"
   ]
  },
  {
   "cell_type": "code",
   "execution_count": null,
   "metadata": {},
   "outputs": [],
   "source": [
    "data=pd.read_csv(r\"breast_cancer_data.csv\")\n",
    "data.head()"
   ]
  },
  {
   "cell_type": "code",
   "execution_count": null,
   "metadata": {},
   "outputs": [],
   "source": [
    "data.describe()"
   ]
  },
  {
   "cell_type": "code",
   "execution_count": null,
   "metadata": {},
   "outputs": [],
   "source": [
    "data.info()"
   ]
  },
  {
   "cell_type": "code",
   "execution_count": null,
   "metadata": {},
   "outputs": [],
   "source": [
    "data.corr()"
   ]
  },
  {
   "cell_type": "code",
   "execution_count": null,
   "metadata": {},
   "outputs": [],
   "source": [
    "feat = data.drop(columns='diagnosis')\n",
    "\n",
    "for feature in feat:\n",
    "    sns.scatterplot(x=feature, y='diagnosis', data=data)\n",
    "    plt.title(f'Scatter Plot: {feature} vs Diagnosis')\n",
    "    plt.xlabel(feature)\n",
    "    plt.ylabel('Diagnosis')\n",
    "    plt.show()"
   ]
  },
  {
   "cell_type": "code",
   "execution_count": null,
   "metadata": {},
   "outputs": [],
   "source": [
    "features = data.columns\n",
    "\n",
    "for feature in features:\n",
    "    plt.figure(figsize=(6, 4))\n",
    "    sns.histplot(data[feature], kde=True) \n",
    "    plt.title(f'Histogram: {feature}')  \n",
    "    plt.xlabel(feature)  \n",
    "    plt.ylabel('Frequency')\n",
    "    plt.show() "
   ]
  },
  {
   "cell_type": "code",
   "execution_count": null,
   "metadata": {},
   "outputs": [],
   "source": [
    "x = data.iloc[ : , :-1].values\n",
    "y = data.iloc[ : , -1].values"
   ]
  },
  {
   "cell_type": "code",
   "execution_count": null,
   "metadata": {},
   "outputs": [],
   "source": [
    "x_train,x_test,y_train,y_test=train_test_split(x,y,test_size=0.20,random_state=42,shuffle=True)"
   ]
  },
  {
   "cell_type": "code",
   "execution_count": null,
   "metadata": {},
   "outputs": [],
   "source": [
    "print(np.unique(data['diagnosis'],return_counts=True))"
   ]
  },
  {
   "cell_type": "code",
   "execution_count": null,
   "metadata": {},
   "outputs": [],
   "source": [
    "def gini(y):\n",
    "    cls,counts=np.unique(y,return_counts=True)\n",
    "    gimpurity=1.0\n",
    "    for count in counts:\n",
    "        gimpurity-=(count/len(y))**2\n",
    "    return gimpurity\n",
    "\n",
    "def split(x,y,limit,feature):\n",
    "    left=x[ :, feature]<=limit\n",
    "    right=x[:, feature]>limit\n",
    "    return x[left],x[right],y[left],y[right]\n",
    "\n",
    "def bestsplit(x,y):\n",
    "    bestgini=float('inf')\n",
    "    bestsplit=None\n",
    "\n",
    "    nooffeatures=x.shape[1]\n",
    "    for features in range(nooffeatures):\n",
    "        limits=np.unique(x[: ,features])\n",
    "        for limit in limits:\n",
    "            xleft,xright,yleft,yright=split(x,y,limit,features)\n",
    "\n",
    "            if len(yleft)==0 or len(yright)==0:\n",
    "                continue\n",
    "\n",
    "            gleft=gini(yleft)\n",
    "            gright=gini(yright)\n",
    "\n",
    "            numerator=len(yleft)*gleft+len(yright)*gright\n",
    "            terminator=len(yleft)+len(yright)\n",
    "            weighted=numerator/terminator\n",
    "            if weighted<bestgini:\n",
    "                bestgini=weighted\n",
    "                bestsplit={\n",
    "                    'feature_index':features,\n",
    "                    'limit':limit,\n",
    "                    'xleft':xleft,\n",
    "                    'xright':xright,\n",
    "                    'yleft':yleft,\n",
    "                    'yright':yright\n",
    "\n",
    "                }\n",
    "\n",
    "    return bestsplit\n",
    "\n",
    "\n",
    "\n",
    "def build_tree(x, y, cur_depth = 0, max_depth = None, min_splits = 2):\n",
    "\n",
    "    n, m = x.shape\n",
    "\n",
    "    if cur_depth >= max_depth or len(np.unique(y)) == 1 or n < min_splits:\n",
    "        return np.bincount(y).argmax()\n",
    "\n",
    "    best_split = bestsplit(x, y)\n",
    "    if best_split is None:\n",
    "        return np.bincount(y).argmax()\n",
    "\n",
    "    left_subtree = build_tree(best_split['xleft'], best_split['yleft'], cur_depth + 1, max_depth, min_splits)\n",
    "    right_subtree = build_tree(best_split['xright'], best_split['yright'], cur_depth + 1, max_depth, min_splits)\n",
    "\n",
    "    return {\n",
    "        'feature_index' : best_split['feature_index'],\n",
    "        'limit' : best_split['limit'],\n",
    "        'left' : left_subtree,\n",
    "        'right' : right_subtree\n",
    "    }\n",
    "\n",
    "def predict_sample(X, tree):\n",
    "    if isinstance(tree, dict):\n",
    "        feature_value = X[tree['feature_index']]\n",
    "        if feature_value <= tree['limit']:\n",
    "            return predict_sample(X, tree['left'])\n",
    "        else:\n",
    "            return predict_sample(X, tree['right'])\n",
    "    else:\n",
    "        return tree\n",
    "\n",
    "def predict(X, tree):\n",
    "    return [predict_sample(x, tree) for x in X]"
   ]
  },
  {
   "cell_type": "code",
   "execution_count": null,
   "metadata": {},
   "outputs": [],
   "source": [
    "tree = build_tree(x_train, y_train, 0, max_depth = 5, min_splits = 2)\n",
    "y_pred = predict(x_test, tree)"
   ]
  },
  {
   "cell_type": "code",
   "execution_count": null,
   "metadata": {},
   "outputs": [],
   "source": [
    "accuracy = accuracy_score(y_test, y_pred)\n",
    "precision = precision_score(y_test, y_pred)\n",
    "recall = recall_score(y_test, y_pred)\n",
    "conf_matrix = confusion_matrix(y_test, y_pred)\n",
    "print(f'Accuracy : {accuracy : .4f}')\n",
    "print(f'Precision : {precision : .4f}')\n",
    "print(f'Recall : {recall : .4f}')\n",
    "print(f'Confusion Matrix :\\n{conf_matrix}')"
   ]
  },
  {
   "cell_type": "code",
   "execution_count": null,
   "metadata": {},
   "outputs": [],
   "source": [
    "sns.heatmap(conf_matrix,annot = True)\n",
    "plt.title('Confusion Matrix')\n",
    "plt.xlabel('Predicted')\n",
    "plt.ylabel('Actual')\n",
    "plt.show()"
   ]
  },
  {
   "cell_type": "code",
   "execution_count": null,
   "metadata": {},
   "outputs": [],
   "source": [
    "fpr, tpr, _ = roc_curve(y_test, y_pred)\n",
    "roc_area = auc(fpr, tpr)\n",
    "plt.figure(figsize = (4, 4))\n",
    "plt.plot(fpr, tpr, label = f\"ROC-CURVE-AREA : {roc_area : .4f}\")\n",
    "plt.plot([0, 1], [0, 1])\n",
    "plt.title('ROC-CURVE')\n",
    "plt.xlabel('False Positive Rates')\n",
    "plt.ylabel('True Positive Rates')\n",
    "plt.legend()\n",
    "plt.show()"
   ]
  },
  {
   "cell_type": "code",
   "execution_count": null,
   "metadata": {},
   "outputs": [],
   "source": [
    "new_sample = np.array([21.56, 22.39, 142.00, 1479.0, 0.11100])\n",
    "new_sample = new_sample.reshape(1, -1)\n",
    "\n",
    "predicted_class = predict(new_sample, tree) \n",
    "print(f\"Predicted class for new input: {predicted_class[0]}\")"
   ]
  }
 ],
 "metadata": {
  "kernelspec": {
   "display_name": ".venv",
   "language": "python",
   "name": "python3"
  },
  "language_info": {
   "codemirror_mode": {
    "name": "ipython",
    "version": 3
   },
   "file_extension": ".py",
   "mimetype": "text/x-python",
   "name": "python",
   "nbconvert_exporter": "python",
   "pygments_lexer": "ipython3",
   "version": "3.10.11"
  }
 },
 "nbformat": 4,
 "nbformat_minor": 2
}
